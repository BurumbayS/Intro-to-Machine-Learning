{
 "cells": [
  {
   "cell_type": "markdown",
   "metadata": {},
   "source": [
    "### Predictive model using Support Vector Machine (SVM)\n",
    "\n",
    "Support vector machines (SVMs) learning algorithm will be used to build the predictive model.  SVMs are one of the most popular classification algorithms, and have an elegant way of transforming nonlinear data so that one can use a linear algorithm to fit a linear model to the data (Cortes and Vapnik 1995)\n",
    "\n",
    "Kernelized support vector machines are powerful models and perform well on a variety of datasets. \n",
    "1. SVMs allow for complex decision boundaries, even if the data has only a few features. \n",
    "2. They work well on low-dimensional and high-dimensional data (i.e., few and many features), but don’t scale very well with the number of samples.\n",
    "> **Running an SVM on data with up to 10,000 samples might work well, but working with datasets of size 100,000 or more can become challenging in terms of runtime and memory usage.**\n",
    "\n",
    "3. SVMs requires careful preprocessing of the data and tuning of the parameters. This is why, these days, most people instead use tree-based models such as random forests or gradient boosting (which require little or no preprocessing) in many applications. \n",
    "4.  SVM models are hard to inspect; it can be difficult to understand why a particular prediction was made, and it might be tricky to explain the model to a nonexpert.\n",
    "\n",
    "### Important Parameters\n",
    "The important parameters in kernel SVMs are the\n",
    "* Regularization parameter C, \n",
    "* The choice of the kernel,(linear, radial basis function(RBF) or polynomial)\n",
    "* Kernel-specific parameters. \n",
    "\n",
    "gamma and C both control the complexity of the model, with large values in either resulting in a more complex model. Therefore, good settings for the two parameters are usually strongly correlated, and C and gamma should be adjusted together."
   ]
  },
  {
   "cell_type": "code",
   "execution_count": 1,
   "metadata": {
    "collapsed": true
   },
   "outputs": [],
   "source": [
    "%matplotlib inline\n",
    "import matplotlib.pyplot as plt\n",
    "\n",
    "#Load libraries for data processing\n",
    "import pandas as pd #data processing, CSV file I/O (e.g. pd.read_csv)\n",
    "import numpy as np\n",
    "from scipy.stats import norm\n",
    "\n",
    "## Supervised learning.\n",
    "from sklearn.preprocessing import StandardScaler\n",
    "from sklearn.preprocessing import LabelEncoder\n",
    "from sklearn.model_selection import train_test_split\n",
    "from sklearn.svm import SVC\n",
    "from sklearn.model_selection import cross_val_score\n",
    "from sklearn.pipeline import make_pipeline\n",
    "from sklearn.metrics import confusion_matrix\n",
    "from sklearn import metrics, preprocessing\n",
    "from sklearn.metrics import classification_report\n",
    "\n",
    "# visualization\n",
    "import seaborn as sns \n",
    "plt.style.use('fivethirtyeight')\n",
    "sns.set_style(\"white\")\n",
    "\n",
    "plt.rcParams['figure.figsize'] = (8,4) \n",
    "#plt.rcParams['axes.titlesize'] = 'large'\n",
    "\n"
   ]
  },
  {
   "cell_type": "code",
   "execution_count": 2,
   "metadata": {
    "collapsed": true
   },
   "outputs": [],
   "source": [
    "data = pd.read_csv('data/clean-data.csv', index_col=False)\n",
    "data.drop('Unnamed: 0',axis=1, inplace=True)\n",
    "#data.head()"
   ]
  },
  {
   "cell_type": "code",
   "execution_count": 3,
   "metadata": {},
   "outputs": [
    {
     "name": "stderr",
     "output_type": "stream",
     "text": [
      "/Applications/anaconda/lib/python3.6/site-packages/sklearn/utils/validation.py:429: DataConversionWarning: Data with input dtype object was converted to float64 by StandardScaler.\n",
      "  warnings.warn(msg, _DataConversionWarning)\n"
     ]
    }
   ],
   "source": [
    "#Assign predictors to a variable of ndarray (matrix) type\n",
    "array = data.values\n",
    "X = array[:,1:31] # features\n",
    "y = array[:,0]\n",
    "\n",
    "#transform the class labels from their original string representation (M and B) into integers\n",
    "le = LabelEncoder()\n",
    "y = le.fit_transform(y)\n",
    "\n",
    "# Normalize the  data (center around 0 and scale to remove the variance).\n",
    "scaler =StandardScaler()\n",
    "Xs = scaler.fit_transform(X)\n"
   ]
  },
  {
   "cell_type": "markdown",
   "metadata": {},
   "source": [
    "#### Classification with cross-validation\n",
    "\n",
    "As discussed in notebook [NB3](https://github.com/ShiroJean/Breast-cancer-risk-prediction/blob/master/NB3_DataPreprocesing.ipynb) splitting the data into test and training sets is crucial to avoid overfitting. This allows generalization of real, previously-unseen data. Cross-validation extends this idea further. Instead of having a single train/test split, we specify **so-called folds** so that the data is divided into similarly-sized folds. \n",
    "\n",
    "* Training occurs by taking all folds except one – referred to as the holdout sample. \n",
    "* On the completion of the training, you test the performance of your fitted model using the holdout sample. \n",
    "\n",
    "* The holdout sample is then thrown back with the rest of the other folds, and a different fold is pulled out as the new holdout sample. \n",
    "\n",
    "* Training is repeated again with the remaining folds and we measure performance using the holdout sample. This process is repeated until each fold has had a chance to be a test or holdout sample. \n",
    "\n",
    "* The expected performance of the classifier, called cross-validation error, is then simply an average of error rates computed on each holdout sample. \n",
    "\n",
    "This process is demonstrated by first performing a standard train/test split, and then computing cross-validation error."
   ]
  },
  {
   "cell_type": "code",
   "execution_count": 4,
   "metadata": {},
   "outputs": [
    {
     "name": "stdout",
     "output_type": "stream",
     "text": [
      "\n",
      "The classifier accuracy score is 0.95\n",
      "\n"
     ]
    }
   ],
   "source": [
    "# 5. Divide records in training and testing sets.\n",
    "X_train, X_test, y_train, y_test = train_test_split(Xs, y, test_size=0.3, random_state=2, stratify=y)\n",
    "\n",
    "# 6. Create an SVM classifier and train it on 70% of the data set.\n",
    "clf = SVC(probability=True)\n",
    "clf.fit(X_train, y_train)\n",
    "\n",
    " #7. Analyze accuracy of predictions on 30% of the holdout test sample.\n",
    "classifier_score = clf.score(X_test, y_test)\n",
    "\n",
    "print ('\\nThe classifier accuracy score is {:03.2f}\\n'.format(classifier_score))"
   ]
  },
  {
   "cell_type": "markdown",
   "metadata": {},
   "source": [
    "To get a better measure of prediction accuracy (which you can use as a proxy for “goodness of fit” of the model), you can successively split the data into folds that you will use for training and testing:"
   ]
  },
  {
   "cell_type": "code",
   "execution_count": 5,
   "metadata": {},
   "outputs": [
    {
     "name": "stdout",
     "output_type": "stream",
     "text": [
      "\n",
      "The 3-fold cross-validation accuracy score for this classifier is 0.97\n",
      "\n"
     ]
    }
   ],
   "source": [
    "# Get average of 3-fold cross-validation score using an SVC estimator.\n",
    "n_folds = 3\n",
    "cv_error = np.average(cross_val_score(SVC(), Xs, y, cv=n_folds))\n",
    "print ('\\nThe {}-fold cross-validation accuracy score for this classifier is {:.2f}\\n'.format(n_folds, cv_error))"
   ]
  },
  {
   "cell_type": "markdown",
   "metadata": {},
   "source": [
    "The above evaluations were based on using the entire set of features. You will now employ the correlation-based feature selection strategy to assess the effect of using 3 features which have the best correlation with the class labels."
   ]
  },
  {
   "cell_type": "code",
   "execution_count": 6,
   "metadata": {},
   "outputs": [
    {
     "name": "stdout",
     "output_type": "stream",
     "text": [
      "\n",
      "The 3-fold cross-validation accuracy score for this classifier is 0.97\n",
      "\n"
     ]
    }
   ],
   "source": [
    "from sklearn.feature_selection import SelectKBest, f_regression\n",
    "clf2 = make_pipeline(SelectKBest(f_regression, k=3),SVC(probability=True))\n",
    "\n",
    "scores = cross_val_score(clf2, Xs, y, cv=3)\n",
    "\n",
    "# Get average of 3-fold cross-validation score using an SVC estimator.\n",
    "n_folds = 3\n",
    "cv_error = np.average(cross_val_score(SVC(), Xs, y, cv=n_folds))\n",
    "print ('\\nThe {}-fold cross-validation accuracy score for this classifier is {:.2f}\\n'.format(n_folds, cv_error))"
   ]
  },
  {
   "cell_type": "code",
   "execution_count": 7,
   "metadata": {},
   "outputs": [
    {
     "name": "stdout",
     "output_type": "stream",
     "text": [
      "[ 0.93157895  0.95263158  0.94179894]\n",
      "Average score and uncertainty: (94.20 +- 0.496)%\n"
     ]
    }
   ],
   "source": [
    "print (scores)\n",
    "avg = (100*np.mean(scores), 100*np.std(scores)/np.sqrt(scores.shape[0]))\n",
    "print (\"Average score and uncertainty: (%.2f +- %.3f)%%\"%avg)"
   ]
  },
  {
   "cell_type": "markdown",
   "metadata": {},
   "source": [
    "From the above results, you can see that only a fraction of the features are required to build a model that performs similarly to models based on using the entire set of features.\n",
    "Feature selection is an important part of the model-building process that you must always pay particular attention to. The details are beyond the scope of this notebook. In the rest of the analysis, you will continue using the entire set of features.\n"
   ]
  },
  {
   "cell_type": "markdown",
   "metadata": {
    "collapsed": true
   },
   "source": [
    "### Model Accuracy: Receiver Operating Characteristic (ROC) curve\n",
    "\n",
    "In statistical modeling and machine learning, a commonly-reported performance measure of model accuracy for binary classification problems is Area Under the Curve (AUC).\n",
    "\n",
    "To understand what information the ROC curve conveys, consider the so-called confusion matrix that essentially is a two-dimensional table where the classifier model is on one axis (vertical), and ground truth is on the other (horizontal) axis, as shown below. Either of these axes can take two values (as depicted)\n"
   ]
  },
  {
   "cell_type": "markdown",
   "metadata": {
    "collapsed": true
   },
   "source": [
    " Model says \"+\" |Model says  \"-\" \n",
    "--- | --- | ---\n",
    "`True positive` | `False negative` | ** Actual: \"+\" **\n",
    " `False positive`  | `True negative` |  Actual: \"-\"\n",
    " In an ROC curve, you plot “True Positive Rate” on the Y-axis and “False Positive Rate” on the X-axis, where the values “true positive”, “false negative”, “false positive”, and “true negative” are events (or their probabilities) as described above. The rates are defined according to the following:\n",
    "> * True positive rate (or sensitivity)}: tpr = tp / (tp + fn)\n",
    "> * False positive rate:       fpr = fp / (fp + tn)\n",
    "> * True negative rate (or specificity): tnr = tn / (fp + tn)\n",
    "\n",
    "In all definitions, the denominator is a row margin in the above confusion matrix. Thus,one can  express\n",
    "* the true positive rate (tpr) as the probability that the model says \"+\" when the real value is indeed \"+\" (i.e., a conditional probability). However, this does not tell you how likely you are to be correct when calling \"+\" (i.e., the probability of a true positive, conditioned on the test result being \"+\").\n",
    "          "
   ]
  },
  {
   "cell_type": "code",
   "execution_count": 8,
   "metadata": {},
   "outputs": [
    {
     "name": "stdout",
     "output_type": "stream",
     "text": [
      "[[106   1]\n",
      " [  7  57]]\n"
     ]
    }
   ],
   "source": [
    "# The confusion matrix helps visualize the performance of the algorithm.\n",
    "y_pred = clf.fit(X_train, y_train).predict(X_test)\n",
    "cm = metrics.confusion_matrix(y_test, y_pred)\n",
    "# print(cm)"
   ]
  },
  {
   "cell_type": "code",
   "execution_count": 9,
   "metadata": {},
   "outputs": [
    {
     "data": {
      "image/png": "[encoded data removed]",
      "text/plain": [
       "<matplotlib.figure.Figure at 0x1133d70f0>"
      ]
     },
     "metadata": {},
     "output_type": "display_data"
    },
    {
     "name": "stdout",
     "output_type": "stream",
     "text": [
      "             precision    recall  f1-score   support\n",
      "\n",
      "          0       0.94      0.99      0.96       107\n",
      "          1       0.98      0.89      0.93        64\n",
      "\n",
      "avg / total       0.95      0.95      0.95       171\n",
      "\n"
     ]
    }
   ],
   "source": [
    "%matplotlib inline\n",
    "import matplotlib.pyplot as plt\n",
    "\n",
    "from IPython.display import Image, display\n",
    "\n",
    "fig, ax = plt.subplots(figsize=(5, 5))\n",
    "ax.matshow(cm, cmap=plt.cm.Reds, alpha=0.3)\n",
    "for i in range(cm.shape[0]):\n",
    "     for j in range(cm.shape[1]):\n",
    "         ax.text(x=j, y=i,\n",
    "                s=cm[i, j], \n",
    "                va='center', ha='center')\n",
    "plt.xlabel('Predicted Values', )\n",
    "plt.ylabel('Actual Values')\n",
    "plt.show()\n",
    "print(classification_report(y_test, y_pred ))"
   ]
  },
  {
   "cell_type": "markdown",
   "metadata": {},
   "source": [
    "#### Observation \n",
    "There are two possible predicted classes: \"1\" and \"0\". Malignant = 1 (indicates prescence of cancer cells) and Benign\n",
    "= 0 (indicates abscence).\n",
    "\n",
    "* The classifier made a total of 174 predictions (i.e 174 patients were being tested for the presence breast cancer).\n",
    "* Out of those 174 cases, the classifier predicted \"yes\" 58 times, and \"no\" 113 times.\n",
    "* In reality, 64 patients in the sample have the disease, and 107 patients do not.\n",
    "\n",
    "#### Rates as computed from the confusion matrix\n",
    "1. **Accuracy**: Overall, how often is the classifier correct?\n",
    "    * (TP+TN)/total = (57+106)/171 = 0.95\n",
    "\n",
    "2. **Misclassification Rate**: Overall, how often is it wrong?\n",
    "    * (FP+FN)/total = (1+7)/171 = 0.05 equivalent to 1 minus Accuracy also known as ***\"Error Rate\"***\n",
    "\n",
    "3. **True Positive Rate:** When it's actually yes, how often does it predict 1?\n",
    "   * TP/actual yes = 57/64 = 0.89 also known as \"Sensitivity\" or ***\"Recall\"***\n",
    "\n",
    "4. **False Positive Rate**: When it's actually 0, how often does it predict 1?\n",
    "   * FP/actual no = 1/107 = 0.01\n",
    "\n",
    "5. **Specificity**: When it's actually 0, how often does it predict 0? also know as **true positive rate**\n",
    "   * TN/actual no = 106/107 = 0.99 equivalent to 1 minus False Positive Rate\n",
    "\n",
    "6. **Precision**: When it predicts 1, how often is it correct?\n",
    "   * TP/predicted yes = 57/58 = 0.98\n",
    "\n",
    "7. **Prevalence**: How often does the yes condition actually occur in our sample?\n",
    "   * actual yes/total = 64/171 = 0.34\n",
    "\n"
   ]
  },
  {
   "cell_type": "code",
   "execution_count": 10,
   "metadata": {},
   "outputs": [
    {
     "data": {
      "image/png": "[encoded data removed]",
      "text/plain": [
       "<matplotlib.figure.Figure at 0x118bafd30>"
      ]
     },
     "metadata": {},
     "output_type": "display_data"
    }
   ],
   "source": [
    "from sklearn.metrics import roc_curve, auc\n",
    "# Plot the receiver operating characteristic curve (ROC).\n",
    "plt.figure(figsize=(10,8))\n",
    "probas_ = clf.predict_proba(X_test)\n",
    "fpr, tpr, thresholds = roc_curve(y_test, probas_[:, 1])\n",
    "roc_auc = auc(fpr, tpr)\n",
    "plt.plot(fpr, tpr, lw=1, label='ROC fold (area = %0.2f)' % (roc_auc))\n",
    "plt.plot([0, 1], [0, 1], '--', color=(0.6, 0.6, 0.6), label='Random')\n",
    "plt.xlim([-0.05, 1.05])\n",
    "plt.ylim([-0.05, 1.05])\n",
    "plt.xlabel('False Positive Rate')\n",
    "plt.ylabel('True Positive Rate')\n",
    "plt.title('Receiver operating characteristic example')\n",
    "plt.axes().set_aspect(1)"
   ]
  },
  {
   "cell_type": "markdown",
   "metadata": {},
   "source": [
    "* To interpret the ROC correctly, consider what the points that lie along the diagonal represent. For these situations, there is an equal chance of \"+\" and \"-\" happening. Therefore, this is not that different from making a prediction by tossing of an unbiased coin. Put simply, the classification model is random.\n",
    "\n",
    "* For the points above the diagonal, tpr > fpr, and the model says that you are in a zone where you are performing better than random. For example, assume tpr = 0.99 and fpr = 0.01, Then, the probability of being in the true positive group is $(0.99 / (0.99 + 0.01)) = 99\\%$. Furthermore, holding fpr constant, it is easy to see that the more vertically above the diagonal you are positioned, the better the classification model."
   ]
  },
  {
   "cell_type": "markdown",
   "metadata": {},
   "source": [
    "## Next I will look into optimizing the clas"
   ]
  },
  {
   "cell_type": "markdown",
   "metadata": {},
   "source": [
    "1. Cortes, Corinna, and Vladimir Vapnik. 1995. “Support-Vector Networks.” Machine Learning 20: 273. Accessed September 3, 2016. doi: 10.1023/A:1022627411411.\n"
   ]
  }
 ],
 "metadata": {
  "anaconda-cloud": {},
  "kernelspec": {
   "display_name": "Python 3",
   "language": "python",
   "name": "python3"
  },
  "language_info": {
   "codemirror_mode": {
    "name": "ipython",
    "version": 3
   },
   "file_extension": ".py",
   "mimetype": "text/x-python",
   "name": "python",
   "nbconvert_exporter": "python",
   "pygments_lexer": "ipython3",
   "version": "3.6.1"
  }
 },
 "nbformat": 4,
 "nbformat_minor": 2
}
